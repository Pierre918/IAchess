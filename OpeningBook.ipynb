{
 "cells": [
  {
   "cell_type": "code",
   "execution_count": 1,
   "id": "279c9162",
   "metadata": {},
   "outputs": [],
   "source": [
    "#objectif :\n",
    "#transformer le fichier .pgn en une liste de liste qui chacune contient les mvt des 6 premiers tours (12 coups)\n",
    "#PB : mvt du pgn en san et mouvements du board.move_stack en uci -> conversion -> utiliser move.uci()\n"
   ]
  },
  {
   "cell_type": "code",
   "execution_count": null,
   "id": "22a3d31a",
   "metadata": {},
   "outputs": [],
   "source": [
    "#convertir un mvt de san en UCI :\n",
    "import chess\n",
    "\n",
    "board = chess.Board()\n",
    "move = board.parse_san(\"e4\")\n",
    "uci_move = move.uci()\n",
    "\n",
    "board.push(move)\n",
    "\n",
    "print(board.fen())\n",
    "print(uci_move)"
   ]
  },
  {
   "cell_type": "code",
   "execution_count": 2,
   "id": "358efede",
   "metadata": {},
   "outputs": [
    {
     "name": "stdout",
     "output_type": "stream",
     "text": [
      "rnbqkbnr/pppppppp/8/8/4P3/8/PPPP1PPP/RNBQKBNR b KQkq - 0 1\n",
      "e2e4\n"
     ]
    }
   ],
   "source": [
    "import os\n",
    "import chess\n",
    "def read_files_in_directory(directory_path):\n",
    "    # Liste qui va stocker les contenus des fichiers\n",
    "    content=\"\"\n",
    "    # On parcourt tous les fichiers du dossier\n",
    "    liste = []"
   ]
  }
 ],
 "metadata": {
  "kernelspec": {
   "display_name": "Python 3",
   "language": "python",
   "name": "python3"
  },
  "language_info": {
   "codemirror_mode": {
    "name": "ipython",
    "version": 3
   },
   "file_extension": ".py",
   "mimetype": "text/x-python",
   "name": "python",
   "nbconvert_exporter": "python",
   "pygments_lexer": "ipython3",
   "version": "3.11.0"
  },
  "vscode": {
   "interpreter": {
    "hash": "c261aea317cc0286b3b3261fbba9abdec21eaa57589985bb7a274bf54d6cc0a7"
   }
  }
 },
 "nbformat": 4,
 "nbformat_minor": 5
}
