{
 "cells": [
  {
   "cell_type": "code",
   "execution_count": 1,
   "id": "a8bb0b8e",
   "metadata": {},
   "outputs": [],
   "source": [
    "import chess\n",
    "import chess.engine\n",
    "from math import inf\n",
    "from stockfish import Stockfish\n",
    "import random\n"
   ]
  },
  {
   "cell_type": "code",
   "execution_count": 2,
   "id": "6a664e35",
   "metadata": {},
   "outputs": [],
   "source": [
    "stf = Stockfish(path=\"./stockfish_15.1_linux_x64/stockfish-ubuntu-20.04-x86-64\")"
   ]
  },
  {
   "cell_type": "code",
   "execution_count": 3,
   "id": "03c3e39a",
   "metadata": {},
   "outputs": [
    {
     "name": "stdout",
     "output_type": "stream",
     "text": [
      ". . . . . . . .\n",
      ". . . . . . . .\n",
      ". . . . . . . .\n",
      ". . . . . . . .\n",
      "r . . . . . . .\n",
      "r . . . . . . .\n",
      ". . . . . . . .\n",
      ". . . . . . . K\n"
     ]
    }
   ],
   "source": [
    "print(chess.Board('8/8/8/8/r7/r7/8/7K'))\n",
    "def sf1(board):\n",
    "    stf.set_fen_position(board.fen())\n",
    "    return stf.get_best_move()\n",
    "#sf1(chess.Board('8/8/8/8/r7/r7/8/7K') )"
   ]
  },
  {
   "cell_type": "code",
   "execution_count": 4,
   "id": "c44e3e58",
   "metadata": {},
   "outputs": [],
   "source": [
    "# Fonction pour appeler Stockfish avec une profondeur donnée\n",
    "def sf(board):\n",
    "    # Ouvre Stockfish en mode UCI\n",
    "    engine = chess.engine.SimpleEngine.popen_uci('./stockfish_15.1_linux_x64/stockfish-ubuntu-20.04-x86-64')\n",
    "        # Analyse la position avec la profondeur demandée\n",
    "        #result = sf.analyse(board, chess.engine.Limit(depth=depth) )\n",
    "        # Récupère le score du blanc (score du point de vue du joueur blanc)\n",
    "        #score = result['score'].white().score()\n",
    "        # Retourne le score\n",
    "        #return score\n",
    "    stockfish = Stockfish(\"./stockfish_15.1_linux_x64/stockfish-ubuntu-20.04-x86-64\")\n",
    "    print(\"joj\")\n",
    "    #return engine.analyse(board, chess.engine.Limit(depth=10)) \n",
    "    return engine.play(board, chess.engine.Limit(time = 10))"
   ]
  },
  {
   "cell_type": "code",
   "execution_count": 5,
   "id": "95ac9e7f",
   "metadata": {},
   "outputs": [],
   "source": [
    "#sf(chess.Board('8/8/8/8/r7/r7/8/7K'))"
   ]
  },
  {
   "cell_type": "code",
   "execution_count": 6,
   "id": "d1235184",
   "metadata": {},
   "outputs": [],
   "source": [
    "def evaluation_piece(piece, maximizing_player):\n",
    "    try:\n",
    "        int(piece)\n",
    "        return 0\n",
    "    except:\n",
    "        var = -1\n",
    "        if (piece == piece.lower() and not maximizing_player) or (piece==piece.capitalize() and maximizing_player):\n",
    "            var = 1\n",
    "        piece = piece.lower()\n",
    "        if piece =='p':\n",
    "            return 10*var #pour une possibilité de mouvement, on donne\n",
    "        elif piece =='n' or piece=='b':\n",
    "            return 30*var #cavalier : 8 possibilité de mvt, 8*5\n",
    "                        #fou : 16 possibilité\n",
    "        elif piece =='r':\n",
    "            return 50*var #tour : 16 possibilité mais + 10 car plus facile de mater avec une tour\n",
    "        elif piece =='q':\n",
    "            return 90*var #dame : 32 possibilité + 50 (pour le mat)\n",
    "        return 0\n",
    "        "
   ]
  },
  {
   "cell_type": "code",
   "execution_count": 7,
   "id": "70c9f2d1",
   "metadata": {},
   "outputs": [],
   "source": [
    "def is_win(board, tour, maximizing_player):\n",
    "    if board.is_checkmate() and tour!=maximizing_player:\n",
    "        return True\n",
    "    return False\n",
    "def is_lose(board, tour, maximizing_player):\n",
    "    if board.is_checkmate() and tour==maximizing_player:\n",
    "        return True\n",
    "    return False\n",
    "def is_draw(board):\n",
    "    if board.is_stalemate() or board.is_insufficient_material() or board.is_seventyfive_moves() or board.is_fivefold_repetition():\n",
    "        return True\n",
    "    return False\n",
    "def evaluation_plateau(board, tour, maximizing_player,max_depth, depth): \n",
    "    \"\"\"\n",
    "    Retourne un score au plateau en fonction du joueur dont c'est le tour (maximizing_player)\n",
    "    On suppose que les minuscules dans la chaîne renvoyée par board_fen() correspondent aux noirs(False)\n",
    "    board.turn = tour = True => tour des blancs\n",
    "    board.turn = tour = False => tour des noirs\n",
    "    \"\"\"\n",
    "    score=0\n",
    "    if is_lose(board, tour, maximizing_player):\n",
    "        return -900 * (max_depth-depth +1) #l'adversaire fait échec et mat\n",
    "    elif is_win(board, tour, maximizing_player):\n",
    "        return 900 * (max_depth-depth+1) #on a fait échec et mat\n",
    "    elif board.is_stalemate() or board.is_insufficient_material() or board.is_seventyfive_moves() or board.is_fivefold_repetition():\n",
    "        return 0\n",
    "\n",
    "    for elt in board.board_fen():\n",
    "        if elt == '/':\n",
    "            pass\n",
    "        else:\n",
    "            score+=evaluation_piece(elt, maximizing_player)\n",
    "    return score     "
   ]
  }
 ],
 "metadata": {
  "kernelspec": {
   "display_name": "Python 3",
   "language": "python",
   "name": "python3"
  },
  "language_info": {
   "codemirror_mode": {
    "name": "ipython",
    "version": 3
   },
   "file_extension": ".py",
   "mimetype": "text/x-python",
   "name": "python",
   "nbconvert_exporter": "python",
   "pygments_lexer": "ipython3",
   "version": "3.11.0"
  },
  "vscode": {
   "interpreter": {
    "hash": "c261aea317cc0286b3b3261fbba9abdec21eaa57589985bb7a274bf54d6cc0a7"
   }
  }
 },
 "nbformat": 4,
 "nbformat_minor": 5
}
